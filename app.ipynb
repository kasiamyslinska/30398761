{
 "cells": [
  {
   "cell_type": "code",
   "execution_count": 7,
   "id": "15f7b2ce-1709-4898-bf4a-247d3ed6e88a",
   "metadata": {},
   "outputs": [
    {
     "name": "stdout",
     "output_type": "stream",
     "text": [
      "Overwriting app.py\n"
     ]
    }
   ],
   "source": [
    "%%file app.py\n",
    "from flask import Flask, request, jsonify\n",
    "\n",
    "app = Flask(__name__)\n",
    "\n",
    "@app.route('/', methods=[\"GET\"])\n",
    "def check_pass():\n",
    "    score1 = float(request.args.get(\"score1\"))\n",
    "    score2 = float(request.args.get(\"score2\"))\n",
    "\n",
    "    avg = (score1 + score2) / 2\n",
    "\n",
    "    if avg >= 50:\n",
    "        result = \"Zaliczono\"\n",
    "    else:\n",
    "        result = \"Nie zaliczono\"\n",
    "\n",
    "    return jsonify({\n",
    "        \"Średnia\": avg,\n",
    "        \"Wynik\": result\n",
    "    })\n",
    "\n",
    "if __name__ == \"__main__\":\n",
    "    app.run()\n",
    "\n",
    "\n",
    "# run: http://127.0.0.1:5000/?score1=70&score2=60"
   ]
  }
 ],
 "metadata": {
  "kernelspec": {
   "display_name": "Python 3 (ipykernel)",
   "language": "python",
   "name": "python3"
  },
  "language_info": {
   "codemirror_mode": {
    "name": "ipython",
    "version": 3
   },
   "file_extension": ".py",
   "mimetype": "text/x-python",
   "name": "python",
   "nbconvert_exporter": "python",
   "pygments_lexer": "ipython3",
   "version": "3.11.7"
  }
 },
 "nbformat": 4,
 "nbformat_minor": 5
}
