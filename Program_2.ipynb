{
 "cells": [
  {
   "cell_type": "code",
   "execution_count": 5,
   "id": "7deab690-adbc-4065-877b-0098ac048a25",
   "metadata": {},
   "outputs": [
    {
     "name": "stdout",
     "output_type": "stream",
     "text": [
      "Overwriting app.py\n"
     ]
    }
   ],
   "source": [
    "%%file app.py\n",
    "from flask import Flask, request, jsonify\n",
    "import statistics\n",
    "\n",
    "app = Flask(__name__)\n",
    "\n",
    "def stats_decorator(func):\n",
    "    def wrapper():\n",
    "        numbers = request.json[\"numbers\"]\n",
    "        mean = statistics.mean(numbers)\n",
    "        median = statistics.median(numbers)\n",
    "        return func(mean, median)\n",
    "    return wrapper\n",
    "\n",
    "@app.route(\"/\")\n",
    "def home():\n",
    "    return \"Welcome to the Stats API!\"\n",
    "    \n",
    "@stats_decorator\n",
    "def calculate(mean, median):\n",
    "    return jsonify({\n",
    "        \"mean\": mean,\n",
    "        \"median\": median\n",
    "    })\n",
    "\n",
    "if __name__ == \"__main__\":\n",
    "    app.run()"
   ]
  }
 ],
 "metadata": {
  "kernelspec": {
   "display_name": "Python 3 (ipykernel)",
   "language": "python",
   "name": "python3"
  },
  "language_info": {
   "codemirror_mode": {
    "name": "ipython",
    "version": 3
   },
   "file_extension": ".py",
   "mimetype": "text/x-python",
   "name": "python",
   "nbconvert_exporter": "python",
   "pygments_lexer": "ipython3",
   "version": "3.11.7"
  }
 },
 "nbformat": 4,
 "nbformat_minor": 5
}
